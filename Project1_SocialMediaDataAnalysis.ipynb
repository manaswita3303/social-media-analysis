{
 "cells": [
  {
   "cell_type": "code",
   "execution_count": 2,
   "id": "68dca1b9",
   "metadata": {},
   "outputs": [
    {
     "name": "stderr",
     "output_type": "stream",
     "text": [
      "/home/manaswitar/anaconda3/lib/python3.9/site-packages/pandas/core/computation/expressions.py:21: UserWarning: Pandas requires version '2.8.4' or newer of 'numexpr' (version '2.7.3' currently installed).\n",
      "  from pandas.core.computation.check import NUMEXPR_INSTALLED\n",
      "/home/manaswitar/anaconda3/lib/python3.9/site-packages/pandas/core/arrays/masked.py:60: UserWarning: Pandas requires version '1.3.6' or newer of 'bottleneck' (version '1.3.2' currently installed).\n",
      "  from pandas.core import (\n",
      "/home/manaswitar/anaconda3/lib/python3.9/site-packages/scipy/__init__.py:146: UserWarning: A NumPy version >=1.16.5 and <1.23.0 is required for this version of SciPy (detected version 1.23.5\n",
      "  warnings.warn(f\"A NumPy version >={np_minversion} and <{np_maxversion}\"\n"
     ]
    }
   ],
   "source": [
    "import pandas as pd\n",
    "import numpy as np\n",
    "import matplotlib\n",
    "import seaborn as sbn\n",
    "import random"
   ]
  },
  {
   "cell_type": "markdown",
   "id": "2f18b8a6",
   "metadata": {},
   "source": [
    "## Generating the Data"
   ]
  },
  {
   "cell_type": "code",
   "execution_count": 3,
   "id": "e26dd511",
   "metadata": {},
   "outputs": [],
   "source": [
    "categories=['Food','Fashion','Fitness','Health','Travel','Music','Culture','Family','Health']"
   ]
  },
  {
   "cell_type": "code",
   "execution_count": 4,
   "id": "673acab7",
   "metadata": {},
   "outputs": [],
   "source": [
    "n=100 #number of entries to generate\n",
    "dict1 = {\n",
    "    'Date': pd.date_range('2024-01-01', periods=n),\n",
    "    'Category': [random.choice(categories) for _ in range(n)],\n",
    "    'Likes': np.random.randint(0, 10000, size=n)\n",
    "}\n"
   ]
  },
  {
   "cell_type": "code",
   "execution_count": 5,
   "id": "e8456721",
   "metadata": {},
   "outputs": [
    {
     "name": "stdout",
     "output_type": "stream",
     "text": [
      "         Date Category  Likes\n",
      "0  2024-01-01  Fashion   1756\n",
      "1  2024-01-02   Family   4602\n",
      "2  2024-01-03   Health   3598\n",
      "3  2024-01-04   Health   5894\n",
      "4  2024-01-05   Travel   6602\n",
      "..        ...      ...    ...\n",
      "95 2024-04-05  Fashion   8017\n",
      "96 2024-04-06   Family   9579\n",
      "97 2024-04-07   Family   4440\n",
      "98 2024-04-08   Health   9993\n",
      "99 2024-04-09     Food    295\n",
      "\n",
      "[100 rows x 3 columns]\n"
     ]
    }
   ],
   "source": [
    "#step3: loading the generated data onto a dataframe\n",
    "data=pd.DataFrame(dict1)\n",
    "print(data)"
   ]
  },
  {
   "cell_type": "code",
   "execution_count": 6,
   "id": "94b43a83",
   "metadata": {},
   "outputs": [
    {
     "data": {
      "text/plain": [
       "Category\n",
       "Health     22\n",
       "Fashion    16\n",
       "Family     12\n",
       "Travel     12\n",
       "Music      12\n",
       "Fitness    10\n",
       "Culture     8\n",
       "Food        8\n",
       "Name: count, dtype: int64"
      ]
     },
     "execution_count": 6,
     "metadata": {},
     "output_type": "execute_result"
    }
   ],
   "source": [
    "#description of the dataframe\n",
    "data['Category'].value_counts() #count of category element"
   ]
  },
  {
   "cell_type": "code",
   "execution_count": 7,
   "id": "3417f53b",
   "metadata": {},
   "outputs": [
    {
     "name": "stdout",
     "output_type": "stream",
     "text": [
      "<class 'pandas.core.frame.DataFrame'>\n",
      "RangeIndex: 100 entries, 0 to 99\n",
      "Data columns (total 3 columns):\n",
      " #   Column    Non-Null Count  Dtype         \n",
      "---  ------    --------------  -----         \n",
      " 0   Date      100 non-null    datetime64[ns]\n",
      " 1   Category  100 non-null    object        \n",
      " 2   Likes     100 non-null    int64         \n",
      "dtypes: datetime64[ns](1), int64(1), object(1)\n",
      "memory usage: 2.5+ KB\n"
     ]
    },
    {
     "data": {
      "text/html": [
       "<div>\n",
       "<style scoped>\n",
       "    .dataframe tbody tr th:only-of-type {\n",
       "        vertical-align: middle;\n",
       "    }\n",
       "\n",
       "    .dataframe tbody tr th {\n",
       "        vertical-align: top;\n",
       "    }\n",
       "\n",
       "    .dataframe thead th {\n",
       "        text-align: right;\n",
       "    }\n",
       "</style>\n",
       "<table border=\"1\" class=\"dataframe\">\n",
       "  <thead>\n",
       "    <tr style=\"text-align: right;\">\n",
       "      <th></th>\n",
       "      <th>Date</th>\n",
       "      <th>Likes</th>\n",
       "    </tr>\n",
       "  </thead>\n",
       "  <tbody>\n",
       "    <tr>\n",
       "      <th>count</th>\n",
       "      <td>100</td>\n",
       "      <td>100.000000</td>\n",
       "    </tr>\n",
       "    <tr>\n",
       "      <th>mean</th>\n",
       "      <td>2024-02-19 12:00:00</td>\n",
       "      <td>4768.200000</td>\n",
       "    </tr>\n",
       "    <tr>\n",
       "      <th>min</th>\n",
       "      <td>2024-01-01 00:00:00</td>\n",
       "      <td>151.000000</td>\n",
       "    </tr>\n",
       "    <tr>\n",
       "      <th>25%</th>\n",
       "      <td>2024-01-25 18:00:00</td>\n",
       "      <td>1828.750000</td>\n",
       "    </tr>\n",
       "    <tr>\n",
       "      <th>50%</th>\n",
       "      <td>2024-02-19 12:00:00</td>\n",
       "      <td>4482.500000</td>\n",
       "    </tr>\n",
       "    <tr>\n",
       "      <th>75%</th>\n",
       "      <td>2024-03-15 06:00:00</td>\n",
       "      <td>7307.750000</td>\n",
       "    </tr>\n",
       "    <tr>\n",
       "      <th>max</th>\n",
       "      <td>2024-04-09 00:00:00</td>\n",
       "      <td>9993.000000</td>\n",
       "    </tr>\n",
       "    <tr>\n",
       "      <th>std</th>\n",
       "      <td>NaN</td>\n",
       "      <td>3096.513618</td>\n",
       "    </tr>\n",
       "  </tbody>\n",
       "</table>\n",
       "</div>"
      ],
      "text/plain": [
       "                      Date        Likes\n",
       "count                  100   100.000000\n",
       "mean   2024-02-19 12:00:00  4768.200000\n",
       "min    2024-01-01 00:00:00   151.000000\n",
       "25%    2024-01-25 18:00:00  1828.750000\n",
       "50%    2024-02-19 12:00:00  4482.500000\n",
       "75%    2024-03-15 06:00:00  7307.750000\n",
       "max    2024-04-09 00:00:00  9993.000000\n",
       "std                    NaN  3096.513618"
      ]
     },
     "execution_count": 7,
     "metadata": {},
     "output_type": "execute_result"
    }
   ],
   "source": [
    "data.head()                     #dataframe head\n",
    "data.info()                     #dataframe information\n",
    "data.describe()                 #dataframe description"
   ]
  },
  {
   "cell_type": "markdown",
   "id": "d9c36fe3",
   "metadata": {},
   "source": [
    "## Cleaning the Data"
   ]
  },
  {
   "cell_type": "code",
   "execution_count": 8,
   "id": "d91ae04f",
   "metadata": {},
   "outputs": [
    {
     "name": "stdout",
     "output_type": "stream",
     "text": [
      "        Date Category  Likes\n",
      "0 2024-01-01  Fashion   1756\n",
      "1 2024-01-02   Family   4602\n",
      "2 2024-01-03   Health   3598\n",
      "3 2024-01-04   Health   5894\n",
      "4 2024-01-05   Travel   6602\n"
     ]
    }
   ],
   "source": [
    "#cleaning the data\n",
    "\n",
    "#step1: removing all the null data & duplicate data\n",
    "data=data.dropna()\n",
    "data=data.drop_duplicates()\n",
    "\n",
    "print(data.head())"
   ]
  },
  {
   "cell_type": "code",
   "execution_count": 9,
   "id": "47206327",
   "metadata": {},
   "outputs": [
    {
     "name": "stdout",
     "output_type": "stream",
     "text": [
      "<class 'pandas.core.frame.DataFrame'>\n",
      "RangeIndex: 100 entries, 0 to 99\n",
      "Data columns (total 3 columns):\n",
      " #   Column    Non-Null Count  Dtype         \n",
      "---  ------    --------------  -----         \n",
      " 0   Date      100 non-null    datetime64[ns]\n",
      " 1   Category  100 non-null    object        \n",
      " 2   Likes     100 non-null    int64         \n",
      "dtypes: datetime64[ns](1), int64(1), object(1)\n",
      "memory usage: 2.5+ KB\n",
      "None\n"
     ]
    }
   ],
   "source": [
    "#step2: Convert the 'Date' column to datetime format\n",
    "data['Date'] = pd.to_datetime(data['Date'])\n",
    "\n",
    "print(data.info()) #check"
   ]
  },
  {
   "cell_type": "code",
   "execution_count": 10,
   "id": "d73fc2e7",
   "metadata": {},
   "outputs": [
    {
     "name": "stdout",
     "output_type": "stream",
     "text": [
      "        Date Category  Likes\n",
      "0 2024-01-01  Fashion   1756\n",
      "1 2024-01-02   Family   4602\n",
      "2 2024-01-03   Health   3598\n",
      "3 2024-01-04   Health   5894\n",
      "4 2024-01-05   Travel   6602\n"
     ]
    }
   ],
   "source": [
    "#step3: converting 'Likes' to integers\n",
    "\n",
    "data['Likes']=data['Likes'].astype(int)  #using astype method to change datatype of specified column to int\n",
    "\n",
    "print(data.head())  #check"
   ]
  },
  {
   "cell_type": "markdown",
   "id": "d0d85bc0",
   "metadata": {},
   "source": [
    "## Visualising and Analysing the Data"
   ]
  },
  {
   "cell_type": "code",
   "execution_count": 11,
   "id": "2e09ee38",
   "metadata": {},
   "outputs": [
    {
     "data": {
      "image/png": "[encoded data removed]",
      "text/plain": [
       "<Figure size 432x288 with 1 Axes>"
      ]
     },
     "metadata": {
      "needs_background": "light"
     },
     "output_type": "display_data"
    }
   ],
   "source": [
    "#Visualising and Analysing the Data\n",
    "#using matplotlib and seaborn libraries\n",
    "\n",
    "import matplotlib.pyplot as plt\n",
    "\n",
    "#creating a histogram of 'Likes' column\n",
    "sbn.histplot(data['Likes'], kde=False, bins=20)\n",
    "\n",
    "#adding titles and labels\n",
    "plt.title('Histogram of Likes')\n",
    "plt.xlabel('Likes')\n",
    "plt.ylabel('Frequency')\n",
    "\n",
    "#show the plot\n",
    "plt.show()"
   ]
  },
  {
   "cell_type": "code",
   "execution_count": 12,
   "id": "37670b8c",
   "metadata": {},
   "outputs": [
    {
     "data": {
      "image/png": "[encoded data removed]",
      "text/plain": [
       "<Figure size 432x288 with 1 Axes>"
      ]
     },
     "metadata": {
      "needs_background": "light"
     },
     "output_type": "display_data"
    }
   ],
   "source": [
    "#creating a boxplot with xaxis as 'Category' and yaxis as 'Likes'\n",
    "\n",
    "sbn.boxplot(x='Category',y='Likes',data=data)\n",
    "\n",
    "#adding titles and labels\n",
    "plt.title('Boxplot of Likes by Category')\n",
    "plt.xlabel('Category')\n",
    "plt.ylabel('Likes')\n",
    "\n",
    "plt.show()"
   ]
  },
  {
   "cell_type": "code",
   "execution_count": 16,
   "id": "b07a04d6",
   "metadata": {},
   "outputs": [
    {
     "name": "stdout",
     "output_type": "stream",
     "text": [
      "The Mean Likes is: 4768.2\n",
      "The Median Likes is: 4482.5\n",
      "The Standard Deviation of Likes is: 3096.5136179029773\n",
      "The Variance of Likes is: 9588396.585858585\n",
      "Category\n",
      "Culture    6066.500000\n",
      "Family     4721.000000\n",
      "Fashion    5269.125000\n",
      "Fitness    5557.900000\n",
      "Food       3238.375000\n",
      "Health     4699.136364\n",
      "Music      4122.916667\n",
      "Travel     4415.666667\n",
      "Name: Likes, dtype: float64\n"
     ]
    }
   ],
   "source": [
    "#statistical analysis\n",
    "\n",
    "mean_likes=data['Likes'].mean()\n",
    "print(\"The Mean Likes is:\", mean_likes)\n",
    "\n",
    "median_likes=data['Likes'].median()\n",
    "print(\"The Median Likes is:\", median_likes)\n",
    "\n",
    "standard_dev=data['Likes'].std()\n",
    "print(\"The Standard Deviation of Likes is:\", standard_dev)\n",
    "\n",
    "variance=data['Likes'].var()\n",
    "print(\"The Variance of Likes is:\", variance)\n",
    "\n",
    "#grouping by category and calculating the mean of Likes\n",
    "category_mean=data.groupby('Category')['Likes'].mean()\n",
    "print(category_mean)"
   ]
  },
  {
   "cell_type": "markdown",
   "id": "f590cd5a",
   "metadata": {},
   "source": [
    "## Conclusion"
   ]
  },
  {
   "cell_type": "markdown",
   "id": "34af9e68",
   "metadata": {},
   "source": [
    "#### From the above data, we can conclude that posts in the Culture category the most number of likes on average, followed closely by Fitness posts. These posts have the most viral or engaging content. Food and Music posts have the lowest average likes, suggesting less engagement. Family, Health, and Travel posts do moderately well.\n",
    "\n",
    "#### The histogram shows that the data follows a bimodal distribution, with two peaks or cluster of values. Some posts receive very high likes (viral), while other posts receive very low likes (unpopular). The mean (4768) is slightly higher than the median (4482), suggesting either a right-skewed distribution, or a distrubution that is not strictly unimodal or normal. \n",
    "\n",
    "#### The standard deviation (3096.51) and variance (9588396.58) are quite large compared to the mean, indicating a high variability in Likes. This suggests that Likes differ significantly across categories and posts, with some posts receiving very few likes and others receiving a lot.\n",
    "\n"
   ]
  },
  {
   "cell_type": "code",
   "execution_count": null,
   "id": "72dea12d",
   "metadata": {},
   "outputs": [],
   "source": []
  }
 ],
 "metadata": {
  "kernelspec": {
   "display_name": "Python 3 (ipykernel)",
   "language": "python",
   "name": "python3"
  },
  "language_info": {
   "codemirror_mode": {
    "name": "ipython",
    "version": 3
   },
   "file_extension": ".py",
   "mimetype": "text/x-python",
   "name": "python",
   "nbconvert_exporter": "python",
   "pygments_lexer": "ipython3",
   "version": "3.9.7"
  }
 },
 "nbformat": 4,
 "nbformat_minor": 5
}
